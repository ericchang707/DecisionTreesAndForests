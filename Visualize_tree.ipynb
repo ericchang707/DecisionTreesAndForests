{
 "cells": [
  {
   "cell_type": "markdown",
   "id": "433e1c5c",
   "metadata": {},
   "source": [
    "### Decision Tree Visualization \n",
    "\n",
    "#### Note: This Visualization Notebook is for learning and understanding decision trees and binary classification. Although this will not be graded, we encourage you to use the notebook to learn more about the assignment. The sklearn (scikit-learn) library is used on this notebook, and will not be allowed to be used on the assignment. Do not call or use this library in your assignment submission file.\n",
    "\n",
    "Some students have had trouble finding a 0.19.1 version of graphviz for this assignment. Since the course suggests conda, the best source for a library is from https://anaconda.org. Enter this command from your ai_env Terminal, ***conda install -c conda-forge python-graphviz*** which installs version 0.19 (compatible) if pip install does not work."
   ]
  },
  {
   "cell_type": "code",
   "execution_count": null,
   "id": "49b2b8d6",
   "metadata": {},
   "outputs": [],
   "source": [
    "# Install important libraries\n",
    "from sklearn.tree import DecisionTreeClassifier, export_graphviz\n",
    "from sklearn import tree\n",
    "from sklearn.datasets import load_wine\n",
    "from IPython.display import SVG\n",
    "from graphviz import Source\n",
    "from IPython.display import display\n",
    "import numpy as np\n",
    "from submission import load_csv"
   ]
  },
  {
   "cell_type": "code",
   "execution_count": null,
   "id": "21c51624",
   "metadata": {
    "lines_to_next_cell": 2
   },
   "outputs": [],
   "source": [
    "# Compute features and classes for the dataset for which you want to visualize\n",
    "# Just uncomment the line for which dataset you want to visualize the DT.\n",
    "\n",
    "## For visualizing part23_data.csv \n",
    "# features,classes = load_csv('part23_data.csv',-1)\n",
    "# labels = ['A1','A2','A3','A4']\n",
    "\n",
    "## For visualizing vectorize.csv dataset\n",
    "# features,classes = load_csv('vectorize.csv',0)\n",
    "# labels = ['A1','A2','A3','A4','A5','A6','A7','A8','A9','A10','A11','A12']\n",
    "\n",
    "## For visualizing challenge.csv dataset\n",
    "features,classes = load_csv('./data/challenge_train.csv',0)\n",
    "labels = ['A1','A2','A3','A4','A5','A6','A7','A8','A9','A10','A11','A12','A13','A14','A15','A16','A17','A18','A19'\n",
    "         ,'A20','A21','A22','A23','A24','A25','A26','A27','A28','A29','A30']"
   ]
  },
  {
   "cell_type": "code",
   "execution_count": null,
   "id": "69255f8f",
   "metadata": {},
   "outputs": [],
   "source": [
    "# # Call sklearn decision tree classifier and fit the decision tree on the dataset.\n",
    "estimator = DecisionTreeClassifier()\n",
    "estimator.fit(features, classes)"
   ]
  },
  {
   "cell_type": "code",
   "execution_count": null,
   "id": "6010d38f",
   "metadata": {},
   "outputs": [],
   "source": [
    "# Call graph visualization library\n",
    "graph = Source(tree.export_graphviz(estimator, out_file=None\n",
    "   , feature_names=labels, class_names=['0', '1'] \n",
    "   , filled = True))"
   ]
  },
  {
   "cell_type": "markdown",
   "id": "eb9ea310",
   "metadata": {},
   "source": [
    "### Observations:\n",
    "Observe how the tree is splitting based on the values of the ginni index, and  what each node in the tree represents. what are the attributes based on which it is splitting,and what values are splitting. What does the leaf nodes corresponds to. Observe number fo samples in each class at leaf nodes? what do they suggest?"
   ]
  },
  {
   "cell_type": "code",
   "execution_count": null,
   "id": "0dfadbd9",
   "metadata": {},
   "outputs": [],
   "source": [
    "# Display Decision Tree\n",
    "display(SVG(graph.pipe(format='svg')))"
   ]
  }
 ],
 "metadata": {
  "kernelspec": {
   "display_name": "Python 3 (ipykernel)",
   "language": "python",
   "name": "python3"
  }
 },
 "nbformat": 4,
 "nbformat_minor": 5
}
